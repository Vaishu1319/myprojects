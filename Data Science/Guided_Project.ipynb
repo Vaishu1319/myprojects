{
 "cells": [
  {
   "cell_type": "markdown",
   "metadata": {
    "collapsed": true
   },
   "source": [
    "## Guided Project\n",
    "### Our goal for this project is to analyze data to help our developers understand what type of apps are likely to attract more users."
   ]
  },
  {
   "cell_type": "markdown",
   "metadata": {},
   "source": [
    "Reading appleStore and googleStore csv file "
   ]
  },
  {
   "cell_type": "code",
   "execution_count": 4,
   "metadata": {
    "collapsed": false
   },
   "outputs": [],
   "source": [
    "from csv import reader\n",
    "apple_data = list(reader(open('AppleStore.csv')))\n",
    "google_data = list(reader(open('googleplaystore.csv')))"
   ]
  },
  {
   "cell_type": "markdown",
   "metadata": {},
   "source": [
    "Checking whether there are any improper data row in googleStore csv file"
   ]
  },
  {
   "cell_type": "code",
   "execution_count": 5,
   "metadata": {
    "collapsed": false
   },
   "outputs": [
    {
     "name": "stdout",
     "output_type": "stream",
     "text": [
      "['Life Made WI-Fi Touchscreen Photo Frame', '1.9', '19', '3.0M', '1,000+', 'Free', '0', 'Everyone', '', 'February 11, 2018', '1.0.19', '4.0 and up']\n",
      "10473\n"
     ]
    }
   ],
   "source": [
    "for row in google_data[1:]:\n",
    "    if len(row) != len(google_data[0]):\n",
    "        print(row, end='\\n')\n",
    "        print(google_data.index(row))"
   ]
  },
  {
   "cell_type": "markdown",
   "metadata": {},
   "source": [
    "Deleting the improper data row "
   ]
  },
  {
   "cell_type": "code",
   "execution_count": 6,
   "metadata": {
    "collapsed": true
   },
   "outputs": [],
   "source": [
    "del google_data[10473]"
   ]
  },
  {
   "cell_type": "markdown",
   "metadata": {},
   "source": [
    "### Removing duplicates from Google data"
   ]
  },
  {
   "cell_type": "markdown",
   "metadata": {},
   "source": [
    "Separating unique and duplicate apps "
   ]
  },
  {
   "cell_type": "code",
   "execution_count": 7,
   "metadata": {
    "collapsed": false,
    "scrolled": true
   },
   "outputs": [
    {
     "name": "stdout",
     "output_type": "stream",
     "text": [
      "Number of duplicate apps: 1181\n",
      "Number of unique apps: 9659\n",
      "['Quick PDF Scanner + OCR FREE', 'Box', 'Google My Business', 'ZOOM Cloud Meetings', 'join.me - Simple Meetings']\n",
      "['Photo Editor & Candy Camera & Grid & ScrapBook', 'Coloring book moana', 'U Launcher Lite – FREE Live Cool Themes, Hide Apps', 'Sketch - Draw & Paint', 'Pixel Draw - Number Art Coloring Book']\n"
     ]
    }
   ],
   "source": [
    "duplicate_apps = []\n",
    "unique_apps = []\n",
    "\n",
    "for row in google_data[1:]:\n",
    "    if row[0] in unique_apps:\n",
    "        duplicate_apps.append(row[0])\n",
    "    else:\n",
    "        unique_apps.append(row[0])\n",
    "\n",
    "print(\"Number of duplicate apps:\", len(duplicate_apps))\n",
    "print(\"Number of unique apps:\", len(unique_apps))\n",
    "\n",
    "print(duplicate_apps[:5])\n",
    "print(unique_apps[:5])\n"
   ]
  },
  {
   "cell_type": "code",
   "execution_count": 8,
   "metadata": {
    "collapsed": false
   },
   "outputs": [
    {
     "name": "stdout",
     "output_type": "stream",
     "text": [
      "9659\n"
     ]
    }
   ],
   "source": [
    "reviews_max = {}\n",
    "for row in google_data[1:]:\n",
    "    name = row[0]\n",
    "    n_reviews = float(row[3])\n",
    "    if (name in reviews_max) and (reviews_max[name] < n_reviews):\n",
    "        reviews_max[name] = n_reviews\n",
    "    if name not in reviews_max:\n",
    "        reviews_max[name] = n_reviews\n",
    "print(len(reviews_max))       \n",
    "        "
   ]
  },
  {
   "cell_type": "code",
   "execution_count": 11,
   "metadata": {
    "collapsed": false
   },
   "outputs": [
    {
     "name": "stdout",
     "output_type": "stream",
     "text": [
      "[['Photo Editor & Candy Camera & Grid & ScrapBook', 'ART_AND_DESIGN', '4.1', '159', '19M', '10,000+', 'Free', '0', 'Everyone', 'Art & Design', 'January 7, 2018', '1.0.0', '4.0.3 and up'], ['U Launcher Lite – FREE Live Cool Themes, Hide Apps', 'ART_AND_DESIGN', '4.7', '87510', '8.7M', '5,000,000+', 'Free', '0', 'Everyone', 'Art & Design', 'August 1, 2018', '1.2.4', '4.0.3 and up'], ['Sketch - Draw & Paint', 'ART_AND_DESIGN', '4.5', '215644', '25M', '50,000,000+', 'Free', '0', 'Teen', 'Art & Design', 'June 8, 2018', 'Varies with device', '4.2 and up'], ['Pixel Draw - Number Art Coloring Book', 'ART_AND_DESIGN', '4.3', '967', '2.8M', '100,000+', 'Free', '0', 'Everyone', 'Art & Design;Creativity', 'June 20, 2018', '1.1', '4.4 and up'], ['Paper flowers instructions', 'ART_AND_DESIGN', '4.4', '167', '5.6M', '50,000+', 'Free', '0', 'Everyone', 'Art & Design', 'March 26, 2017', '1.0', '2.3 and up'], ['Smoke Effect Photo Maker - Smoke Editor', 'ART_AND_DESIGN', '3.8', '178', '19M', '50,000+', 'Free', '0', 'Everyone', 'Art & Design', 'April 26, 2018', '1.1', '4.0.3 and up'], ['Infinite Painter', 'ART_AND_DESIGN', '4.1', '36815', '29M', '1,000,000+', 'Free', '0', 'Everyone', 'Art & Design', 'June 14, 2018', '6.1.61.1', '4.2 and up'], ['Garden Coloring Book', 'ART_AND_DESIGN', '4.4', '13791', '33M', '1,000,000+', 'Free', '0', 'Everyone', 'Art & Design', 'September 20, 2017', '2.9.2', '3.0 and up'], ['Kids Paint Free - Drawing Fun', 'ART_AND_DESIGN', '4.7', '121', '3.1M', '10,000+', 'Free', '0', 'Everyone', 'Art & Design;Creativity', 'July 3, 2018', '2.8', '4.0.3 and up'], ['Text on Photo - Fonteee', 'ART_AND_DESIGN', '4.4', '13880', '28M', '1,000,000+', 'Free', '0', 'Everyone', 'Art & Design', 'October 27, 2017', '1.0.4', '4.1 and up'], ['Name Art Photo Editor - Focus n Filters', 'ART_AND_DESIGN', '4.4', '8788', '12M', '1,000,000+', 'Free', '0', 'Everyone', 'Art & Design', 'July 31, 2018', '1.0.15', '4.0 and up'], ['Tattoo Name On My Photo Editor', 'ART_AND_DESIGN', '4.2', '44829', '20M', '10,000,000+', 'Free', '0', 'Teen', 'Art & Design', 'April 2, 2018', '3.8', '4.1 and up'], ['Mandala Coloring Book', 'ART_AND_DESIGN', '4.6', '4326', '21M', '100,000+', 'Free', '0', 'Everyone', 'Art & Design', 'June 26, 2018', '1.0.4', '4.4 and up'], ['3D Color Pixel by Number - Sandbox Art Coloring', 'ART_AND_DESIGN', '4.4', '1518', '37M', '100,000+', 'Free', '0', 'Everyone', 'Art & Design', 'August 3, 2018', '1.2.3', '2.3 and up'], ['Learn To Draw Kawaii Characters', 'ART_AND_DESIGN', '3.2', '55', '2.7M', '5,000+', 'Free', '0', 'Everyone', 'Art & Design', 'June 6, 2018', 'NaN', '4.2 and up']]\n",
      "9659\n"
     ]
    }
   ],
   "source": [
    "android_clean = [] #stores new cleaned data set\n",
    "already_added = [] # which will store app names\n",
    "\n",
    "for row in google_data[1:]:\n",
    "    name = row[0]\n",
    "    n_reviews = float(row[3])\n",
    "    if (n_reviews == reviews_max[name]) and name not in already_added:\n",
    "        android_clean.append(row)\n",
    "        already_added.append(name)\n",
    "print(android_clean[:15])\n",
    "print(len(android_clean))      "
   ]
  },
  {
   "cell_type": "code",
   "execution_count": 25,
   "metadata": {
    "collapsed": false
   },
   "outputs": [
    {
     "name": "stdout",
     "output_type": "stream",
     "text": [
      "True\n",
      "False\n",
      "True\n",
      "True\n"
     ]
    }
   ],
   "source": [
    "def check_string(string_inp):\n",
    "    non_ascii = 0\n",
    "    for char in string_inp:\n",
    "        if ord(char) > 127:\n",
    "            non_ascii += 1\n",
    "    \n",
    "    if non_ascii > 3:\n",
    "            return False\n",
    "    else:\n",
    "        return True\n",
    "\n",
    "print(check_string('Instagram'))\n",
    "print(check_string('爱奇艺PPS -《欢乐颂2》电视剧热播'))\n",
    "print(check_string('Docs To Go™ Free Office Suite'))\n",
    "print(check_string('Instachat 😜'))"
   ]
  },
  {
   "cell_type": "code",
   "execution_count": 27,
   "metadata": {
    "collapsed": false
   },
   "outputs": [
    {
     "name": "stdout",
     "output_type": "stream",
     "text": [
      "6183\n",
      "9614\n"
     ]
    }
   ],
   "source": [
    "ios_data = []\n",
    "android_data = []\n",
    "\n",
    "for row in apple_data[1:]:\n",
    "    if check_string(row[1]):\n",
    "        ios_data.append(row)\n",
    "\n",
    "for row in android_clean:\n",
    "    if check_string(row[0]):\n",
    "        android_data.append(row)\n",
    "\n",
    "\n",
    "print(len(ios_data))\n",
    "print(len(android_data))"
   ]
  },
  {
   "cell_type": "code",
   "execution_count": 28,
   "metadata": {
    "collapsed": false
   },
   "outputs": [
    {
     "name": "stdout",
     "output_type": "stream",
     "text": [
      "3222\n",
      "8864\n"
     ]
    }
   ],
   "source": [
    "final_ios_data = []\n",
    "final_android_data = []\n",
    "\n",
    "for row in ios_data:\n",
    "    if float(row[4]) == 0.0:\n",
    "        final_ios_data.append(row)\n",
    "\n",
    "for row in android_data:\n",
    "    if row[7] == '0':\n",
    "        final_android_data.append(row)\n",
    "        \n",
    "print(len(final_ios_data))\n",
    "print(len(final_android_data))"
   ]
  },
  {
   "cell_type": "code",
   "execution_count": 31,
   "metadata": {
    "collapsed": false
   },
   "outputs": [],
   "source": [
    "def freq_table(dataset, index):\n",
    "    freq_counting = {}\n",
    "    total = 0\n",
    "    for each_row in dataset:\n",
    "        total += 1\n",
    "        category = each_row[index]\n",
    "        if category in freq_counting:\n",
    "            freq_counting[category] += 1\n",
    "        else:\n",
    "            freq_counting[category] = 1\n",
    "            \n",
    "    table_percentages = {}\n",
    "    for key in freq_counting:\n",
    "        percentage = (freq_counting[key] / total) * 100\n",
    "        table_percentages[key] = round(percentage, 4) \n",
    "    \n",
    "    return table_percentages\n",
    "\n",
    "def display_table(dataset, index):\n",
    "    table = freq_table(dataset, index)\n",
    "    table_display = []\n",
    "    for key in table:\n",
    "        key_val_as_tuple = (table[key], key)\n",
    "        table_display.append(key_val_as_tuple)\n",
    "\n",
    "    table_sorted = sorted(table_display, reverse = True)\n",
    "    for entry in table_sorted:\n",
    "        print(entry[1], ':', entry[0])           "
   ]
  },
  {
   "cell_type": "code",
   "execution_count": 32,
   "metadata": {
    "collapsed": false
   },
   "outputs": [
    {
     "name": "stdout",
     "output_type": "stream",
     "text": [
      "Start of ios data - prime_genre\n",
      "Games : 58.1626\n",
      "Entertainment : 7.8833\n",
      "Photo & Video : 4.9659\n",
      "Education : 3.6623\n",
      "Social Networking : 3.2899\n",
      "Shopping : 2.6071\n",
      "Utilities : 2.514\n",
      "Sports : 2.1415\n",
      "Music : 2.0484\n",
      "Health & Fitness : 2.0174\n",
      "Productivity : 1.7381\n",
      "Lifestyle : 1.5829\n",
      "News : 1.3346\n",
      "Travel : 1.2415\n",
      "Finance : 1.1173\n",
      "Weather : 0.869\n",
      "Food & Drink : 0.807\n",
      "Reference : 0.5587\n",
      "Business : 0.5276\n",
      "Book : 0.4345\n",
      "Navigation : 0.1862\n",
      "Medical : 0.1862\n",
      "Catalogs : 0.1241\n",
      "\n",
      "Start of google data - category\n",
      "FAMILY : 18.9079\n",
      "GAME : 9.7247\n",
      "TOOLS : 8.4612\n",
      "BUSINESS : 4.5916\n",
      "LIFESTYLE : 3.9034\n",
      "PRODUCTIVITY : 3.8921\n",
      "FINANCE : 3.7004\n",
      "MEDICAL : 3.5311\n",
      "SPORTS : 3.3958\n",
      "PERSONALIZATION : 3.3168\n",
      "COMMUNICATION : 3.2378\n",
      "HEALTH_AND_FITNESS : 3.0799\n",
      "PHOTOGRAPHY : 2.9445\n",
      "NEWS_AND_MAGAZINES : 2.7978\n",
      "SOCIAL : 2.6625\n",
      "TRAVEL_AND_LOCAL : 2.3353\n",
      "SHOPPING : 2.245\n",
      "BOOKS_AND_REFERENCE : 2.1435\n",
      "DATING : 1.8615\n",
      "VIDEO_PLAYERS : 1.7938\n",
      "MAPS_AND_NAVIGATION : 1.3989\n",
      "FOOD_AND_DRINK : 1.241\n",
      "EDUCATION : 1.162\n",
      "ENTERTAINMENT : 0.9589\n",
      "LIBRARIES_AND_DEMO : 0.9364\n",
      "AUTO_AND_VEHICLES : 0.9251\n",
      "HOUSE_AND_HOME : 0.8236\n",
      "WEATHER : 0.801\n",
      "EVENTS : 0.7107\n",
      "PARENTING : 0.6543\n",
      "ART_AND_DESIGN : 0.6431\n",
      "COMICS : 0.6205\n",
      "BEAUTY : 0.5979\n",
      "\n",
      "Start of google data - genres\n",
      "Tools : 8.4499\n",
      "Entertainment : 6.0695\n",
      "Education : 5.3475\n",
      "Business : 4.5916\n",
      "Productivity : 3.8921\n",
      "Lifestyle : 3.8921\n",
      "Finance : 3.7004\n",
      "Medical : 3.5311\n",
      "Sports : 3.4634\n",
      "Personalization : 3.3168\n",
      "Communication : 3.2378\n",
      "Action : 3.1024\n",
      "Health & Fitness : 3.0799\n",
      "Photography : 2.9445\n",
      "News & Magazines : 2.7978\n",
      "Social : 2.6625\n",
      "Travel & Local : 2.324\n",
      "Shopping : 2.245\n",
      "Books & Reference : 2.1435\n",
      "Simulation : 2.042\n",
      "Dating : 1.8615\n",
      "Arcade : 1.8502\n",
      "Video Players & Editors : 1.7712\n",
      "Casual : 1.7599\n",
      "Maps & Navigation : 1.3989\n",
      "Food & Drink : 1.241\n",
      "Puzzle : 1.1282\n",
      "Racing : 0.9928\n",
      "Role Playing : 0.9364\n",
      "Libraries & Demo : 0.9364\n",
      "Auto & Vehicles : 0.9251\n",
      "Strategy : 0.9138\n",
      "House & Home : 0.8236\n",
      "Weather : 0.801\n",
      "Events : 0.7107\n",
      "Adventure : 0.6769\n",
      "Comics : 0.6092\n",
      "Beauty : 0.5979\n",
      "Art & Design : 0.5979\n",
      "Parenting : 0.4964\n",
      "Card : 0.4513\n",
      "Casino : 0.4287\n",
      "Trivia : 0.4174\n",
      "Educational;Education : 0.3949\n",
      "Board : 0.3836\n",
      "Educational : 0.3723\n",
      "Education;Education : 0.3384\n",
      "Word : 0.2595\n",
      "Casual;Pretend Play : 0.2369\n",
      "Music : 0.2031\n",
      "Racing;Action & Adventure : 0.1692\n",
      "Puzzle;Brain Games : 0.1692\n",
      "Entertainment;Music & Video : 0.1692\n",
      "Casual;Brain Games : 0.1354\n",
      "Casual;Action & Adventure : 0.1354\n",
      "Arcade;Action & Adventure : 0.1241\n",
      "Action;Action & Adventure : 0.1015\n",
      "Educational;Pretend Play : 0.0903\n",
      "Simulation;Action & Adventure : 0.079\n",
      "Parenting;Education : 0.079\n",
      "Entertainment;Brain Games : 0.079\n",
      "Board;Brain Games : 0.079\n",
      "Parenting;Music & Video : 0.0677\n",
      "Educational;Brain Games : 0.0677\n",
      "Casual;Creativity : 0.0677\n",
      "Art & Design;Creativity : 0.0677\n",
      "Education;Pretend Play : 0.0564\n",
      "Role Playing;Pretend Play : 0.0451\n",
      "Education;Creativity : 0.0451\n",
      "Role Playing;Action & Adventure : 0.0338\n",
      "Puzzle;Action & Adventure : 0.0338\n",
      "Entertainment;Creativity : 0.0338\n",
      "Entertainment;Action & Adventure : 0.0338\n",
      "Educational;Creativity : 0.0338\n",
      "Educational;Action & Adventure : 0.0338\n",
      "Education;Music & Video : 0.0338\n",
      "Education;Brain Games : 0.0338\n",
      "Education;Action & Adventure : 0.0338\n",
      "Adventure;Action & Adventure : 0.0338\n",
      "Video Players & Editors;Music & Video : 0.0226\n",
      "Sports;Action & Adventure : 0.0226\n",
      "Simulation;Pretend Play : 0.0226\n",
      "Puzzle;Creativity : 0.0226\n",
      "Music;Music & Video : 0.0226\n",
      "Entertainment;Pretend Play : 0.0226\n",
      "Casual;Education : 0.0226\n",
      "Board;Action & Adventure : 0.0226\n",
      "Video Players & Editors;Creativity : 0.0113\n",
      "Trivia;Education : 0.0113\n",
      "Travel & Local;Action & Adventure : 0.0113\n",
      "Tools;Education : 0.0113\n",
      "Strategy;Education : 0.0113\n",
      "Strategy;Creativity : 0.0113\n",
      "Strategy;Action & Adventure : 0.0113\n",
      "Simulation;Education : 0.0113\n",
      "Role Playing;Brain Games : 0.0113\n",
      "Racing;Pretend Play : 0.0113\n",
      "Puzzle;Education : 0.0113\n",
      "Parenting;Brain Games : 0.0113\n",
      "Music & Audio;Music & Video : 0.0113\n",
      "Lifestyle;Pretend Play : 0.0113\n",
      "Lifestyle;Education : 0.0113\n",
      "Health & Fitness;Education : 0.0113\n",
      "Health & Fitness;Action & Adventure : 0.0113\n",
      "Entertainment;Education : 0.0113\n",
      "Communication;Creativity : 0.0113\n",
      "Comics;Creativity : 0.0113\n",
      "Casual;Music & Video : 0.0113\n",
      "Card;Action & Adventure : 0.0113\n",
      "Books & Reference;Education : 0.0113\n",
      "Art & Design;Pretend Play : 0.0113\n",
      "Art & Design;Action & Adventure : 0.0113\n",
      "Arcade;Pretend Play : 0.0113\n",
      "Adventure;Education : 0.0113\n"
     ]
    }
   ],
   "source": [
    "print(\"Start of ios data - prime_genre\")\n",
    "display_table(final_ios_data, 11)\n",
    "print()\n",
    "print(\"Start of google data - category\")\n",
    "display_table(final_android_data, 1)\n",
    "print()\n",
    "print(\"Start of google data - genres\")\n",
    "display_table(final_android_data, 9)"
   ]
  },
  {
   "cell_type": "markdown",
   "metadata": {},
   "source": [
    "### Average number of installs per app genre for the Apple Store data set"
   ]
  },
  {
   "cell_type": "code",
   "execution_count": 35,
   "metadata": {
    "collapsed": false,
    "scrolled": true
   },
   "outputs": [
    {
     "name": "stdout",
     "output_type": "stream",
     "text": [
      "Lifestyle :  16485.7647\n",
      "Health & Fitness :  23298.0154\n",
      "Shopping :  26919.6905\n",
      "Games :  22788.6697\n",
      "Reference :  74942.1111\n",
      "Book :  39758.5\n",
      "Weather :  52279.8929\n",
      "Productivity :  21028.4107\n",
      "Food & Drink :  33333.9231\n",
      "Photo & Video :  28441.5438\n",
      "News :  21248.0233\n",
      "Navigation :  86090.3333\n",
      "Travel :  28243.8\n",
      "Music :  57326.5303\n",
      "Sports :  23008.8986\n",
      "Catalogs :  4004.0\n",
      "Social Networking :  71548.3491\n",
      "Education :  7003.9831\n",
      "Entertainment :  14029.8307\n",
      "Business :  7491.1176\n",
      "Utilities :  18684.4568\n",
      "Finance :  31467.9444\n",
      "Medical :  612.0\n"
     ]
    }
   ],
   "source": [
    "genres_ios = freq_table(final_ios_data, -5)\n",
    "\n",
    "for genre in genres_ios:\n",
    "    total = 0\n",
    "    len_genre = 0\n",
    "    for row in final_ios_data:\n",
    "        genre_app = row[-5]\n",
    "        if genre_app == genre:\n",
    "            n_ratings = float(row[5])\n",
    "            total += n_ratings\n",
    "            len_genre += 1\n",
    "    avg_n_ratings = total / len_genre\n",
    "    print(genre, \": \", round(avg_n_ratings, 4))"
   ]
  },
  {
   "cell_type": "markdown",
   "metadata": {},
   "source": [
    "### Average number of installs per app genre for the Google Play data set"
   ]
  },
  {
   "cell_type": "code",
   "execution_count": 40,
   "metadata": {
    "collapsed": false
   },
   "outputs": [
    {
     "name": "stdout",
     "output_type": "stream",
     "text": [
      "PERSONALIZATION :  5201482.6122\n",
      "GAME :  15588015.6032\n",
      "SOCIAL :  23253652.1271\n",
      "ART_AND_DESIGN :  1986335.0877\n",
      "DATING :  854028.8303\n",
      "EVENTS :  253542.2222\n",
      "ENTERTAINMENT :  11640705.8824\n",
      "SPORTS :  3638640.1429\n",
      "AUTO_AND_VEHICLES :  647317.8171\n",
      "HEALTH_AND_FITNESS :  4188821.9853\n",
      "MEDICAL :  120550.6198\n",
      "LIBRARIES_AND_DEMO :  638503.7349\n",
      "EDUCATION :  1833495.1456\n",
      "HOUSE_AND_HOME :  1331540.5616\n",
      "NEWS_AND_MAGAZINES :  9549178.4677\n",
      "BUSINESS :  1712290.1474\n",
      "PARENTING :  542603.6207\n",
      "WEATHER :  5074486.1972\n",
      "LIFESTYLE :  1437816.2688\n",
      "FINANCE :  1387692.4756\n",
      "COMICS :  817657.2727\n",
      "COMMUNICATION :  38456119.1672\n",
      "SHOPPING :  7036877.3116\n",
      "BEAUTY :  513151.8868\n",
      "VIDEO_PLAYERS :  24727872.4528\n",
      "MAPS_AND_NAVIGATION :  4056941.7742\n",
      "FAMILY :  3695641.8198\n",
      "PRODUCTIVITY :  16787331.3449\n",
      "TOOLS :  10801391.2987\n",
      "FOOD_AND_DRINK :  1924897.7364\n",
      "BOOKS_AND_REFERENCE :  8767811.8947\n",
      "TRAVEL_AND_LOCAL :  13984077.7101\n",
      "PHOTOGRAPHY :  17840110.4023\n"
     ]
    }
   ],
   "source": [
    "category_android = freq_table(final_android_data, 1)\n",
    "\n",
    "for category in category_android:\n",
    "    total = 0\n",
    "    len_category = 0\n",
    "    for row in final_android_data:\n",
    "        category_app = row[1]\n",
    "        if category_app == category:\n",
    "            n_install = row[5]\n",
    "            n_install = n_install.replace('+', '')\n",
    "            n_install = n_install.replace(',', '')\n",
    "            total += float(n_install)\n",
    "            len_category += 1\n",
    "    avg_n_installs = total / len_category\n",
    "    print(category, \": \", round(avg_n_installs, 4))"
   ]
  }
 ],
 "metadata": {
  "kernelspec": {
   "display_name": "Python 3",
   "language": "python",
   "name": "python3"
  },
  "language_info": {
   "codemirror_mode": {
    "name": "ipython",
    "version": 3
   },
   "file_extension": ".py",
   "mimetype": "text/x-python",
   "name": "python",
   "nbconvert_exporter": "python",
   "pygments_lexer": "ipython3",
   "version": "3.4.3"
  }
 },
 "nbformat": 4,
 "nbformat_minor": 2
}
